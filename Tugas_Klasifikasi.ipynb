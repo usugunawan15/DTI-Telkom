{
  "nbformat": 4,
  "nbformat_minor": 0,
  "metadata": {
    "colab": {
      "name": "Tugas Klasifikasi.ipynb",
      "provenance": [],
      "collapsed_sections": [],
      "authorship_tag": "ABX9TyMOafHNR48MYxHag38809zu",
      "include_colab_link": true
    },
    "kernelspec": {
      "name": "python3",
      "display_name": "Python 3"
    }
  },
  "cells": [
    {
      "cell_type": "markdown",
      "metadata": {
        "id": "view-in-github",
        "colab_type": "text"
      },
      "source": [
        "<a href=\"https://colab.research.google.com/github/usugunawan15/DTI-Telkom/blob/master/Tugas_Klasifikasi.ipynb\" target=\"_parent\"><img src=\"https://colab.research.google.com/assets/colab-badge.svg\" alt=\"Open In Colab\"/></a>"
      ]
    },
    {
      "cell_type": "markdown",
      "metadata": {
        "id": "E22iuNvyemv2"
      },
      "source": [
        "# **Classification**\n",
        "Usu Gunawan\n",
        "DS0223\n",
        "\n",
        "Dataset bank.csv diakses dari https://www.kaggle.com/janiobachmann/bank-marketing-dataset"
      ]
    },
    {
      "cell_type": "markdown",
      "metadata": {
        "id": "jWPtX3wpgJ-y"
      },
      "source": [
        "**Input Variabel**\n",
        "1.  Age       : (numeric)\n",
        "2.  Job       : (categorical: 'admin.','blue-collar','entrepreneur','housemaid','management','retired','self-employed','services','student','technician','unemployed','unknown')\n",
        "3.  Marital   : (categorical: 'divorced','married','single','unknown')\n",
        "4.  Education : (categorical: primary, secondary, tertiary and unknown)\n",
        "5.  Default   : (categorical: 'no','yes','unknown')\n",
        "6.  Housing   : (categorical: 'no','yes','unknown')\n",
        "7.  Loan      : (categorical: 'no','yes','unknown')\n",
        "8.  Balance   : Balance of the individual.\n",
        "9.  Contact   : (categorical: 'cellular','telephone')\n",
        "10. Month     : (categorical: 'jan', 'feb', 'mar', ..., 'nov', 'dec')\n",
        "11. Day       : (categorical: 'mon','tue','wed','thu','fri')\n",
        "12. Duration  : Last contact duration, in seconds (numeric). \n",
        "13. Campaign  : (numeric, includes last contact)\n",
        "14. Pdays     : (numeric; 999 means client was not previously contacted)\n",
        "15. Previous  : (numeric)\n",
        "16. Poutcome  : (categorical: 'failure','nonexistent','success')\n",
        "17. y(deposit): (binary: 'yes','no')"
      ]
    },
    {
      "cell_type": "markdown",
      "metadata": {
        "id": "MFpgF9VKgoez"
      },
      "source": [
        "**Import Libraries**"
      ]
    },
    {
      "cell_type": "code",
      "metadata": {
        "id": "kLqdqvMvcuYd"
      },
      "source": [
        "# Import Library\n",
        "import pandas as pd"
      ],
      "execution_count": 3,
      "outputs": []
    },
    {
      "cell_type": "markdown",
      "metadata": {
        "id": "R-Xz5MilxSvj"
      },
      "source": [
        "**Import Raw Dataset**"
      ]
    },
    {
      "cell_type": "code",
      "metadata": {
        "id": "0jpNhDMAuGad",
        "outputId": "eaa403dd-94e8-4cc5-eec5-ba6754343084",
        "colab": {
          "base_uri": "https://localhost:8080/",
          "height": 204
        }
      },
      "source": [
        "# Import Data to Google Colab\n",
        "df_churn = pd.read_csv('https://raw.githubusercontent.com/usugunawan15/DTI-Telkom/master/data/bank.csv', sep = ',')\n",
        "df_churn\n",
        "df_churn.head()"
      ],
      "execution_count": 12,
      "outputs": [
        {
          "output_type": "execute_result",
          "data": {
            "text/html": [
              "<div>\n",
              "<style scoped>\n",
              "    .dataframe tbody tr th:only-of-type {\n",
              "        vertical-align: middle;\n",
              "    }\n",
              "\n",
              "    .dataframe tbody tr th {\n",
              "        vertical-align: top;\n",
              "    }\n",
              "\n",
              "    .dataframe thead th {\n",
              "        text-align: right;\n",
              "    }\n",
              "</style>\n",
              "<table border=\"1\" class=\"dataframe\">\n",
              "  <thead>\n",
              "    <tr style=\"text-align: right;\">\n",
              "      <th></th>\n",
              "      <th>age</th>\n",
              "      <th>job</th>\n",
              "      <th>marital</th>\n",
              "      <th>education</th>\n",
              "      <th>default</th>\n",
              "      <th>balance</th>\n",
              "      <th>housing</th>\n",
              "      <th>loan</th>\n",
              "      <th>contact</th>\n",
              "      <th>day</th>\n",
              "      <th>month</th>\n",
              "      <th>duration</th>\n",
              "      <th>campaign</th>\n",
              "      <th>pdays</th>\n",
              "      <th>previous</th>\n",
              "      <th>poutcome</th>\n",
              "      <th>deposit</th>\n",
              "    </tr>\n",
              "  </thead>\n",
              "  <tbody>\n",
              "    <tr>\n",
              "      <th>0</th>\n",
              "      <td>59</td>\n",
              "      <td>admin.</td>\n",
              "      <td>married</td>\n",
              "      <td>secondary</td>\n",
              "      <td>no</td>\n",
              "      <td>2343</td>\n",
              "      <td>yes</td>\n",
              "      <td>no</td>\n",
              "      <td>unknown</td>\n",
              "      <td>5</td>\n",
              "      <td>may</td>\n",
              "      <td>1042</td>\n",
              "      <td>1</td>\n",
              "      <td>-1</td>\n",
              "      <td>0</td>\n",
              "      <td>unknown</td>\n",
              "      <td>yes</td>\n",
              "    </tr>\n",
              "    <tr>\n",
              "      <th>1</th>\n",
              "      <td>56</td>\n",
              "      <td>admin.</td>\n",
              "      <td>married</td>\n",
              "      <td>secondary</td>\n",
              "      <td>no</td>\n",
              "      <td>45</td>\n",
              "      <td>no</td>\n",
              "      <td>no</td>\n",
              "      <td>unknown</td>\n",
              "      <td>5</td>\n",
              "      <td>may</td>\n",
              "      <td>1467</td>\n",
              "      <td>1</td>\n",
              "      <td>-1</td>\n",
              "      <td>0</td>\n",
              "      <td>unknown</td>\n",
              "      <td>yes</td>\n",
              "    </tr>\n",
              "    <tr>\n",
              "      <th>2</th>\n",
              "      <td>41</td>\n",
              "      <td>technician</td>\n",
              "      <td>married</td>\n",
              "      <td>secondary</td>\n",
              "      <td>no</td>\n",
              "      <td>1270</td>\n",
              "      <td>yes</td>\n",
              "      <td>no</td>\n",
              "      <td>unknown</td>\n",
              "      <td>5</td>\n",
              "      <td>may</td>\n",
              "      <td>1389</td>\n",
              "      <td>1</td>\n",
              "      <td>-1</td>\n",
              "      <td>0</td>\n",
              "      <td>unknown</td>\n",
              "      <td>yes</td>\n",
              "    </tr>\n",
              "    <tr>\n",
              "      <th>3</th>\n",
              "      <td>55</td>\n",
              "      <td>services</td>\n",
              "      <td>married</td>\n",
              "      <td>secondary</td>\n",
              "      <td>no</td>\n",
              "      <td>2476</td>\n",
              "      <td>yes</td>\n",
              "      <td>no</td>\n",
              "      <td>unknown</td>\n",
              "      <td>5</td>\n",
              "      <td>may</td>\n",
              "      <td>579</td>\n",
              "      <td>1</td>\n",
              "      <td>-1</td>\n",
              "      <td>0</td>\n",
              "      <td>unknown</td>\n",
              "      <td>yes</td>\n",
              "    </tr>\n",
              "    <tr>\n",
              "      <th>4</th>\n",
              "      <td>54</td>\n",
              "      <td>admin.</td>\n",
              "      <td>married</td>\n",
              "      <td>tertiary</td>\n",
              "      <td>no</td>\n",
              "      <td>184</td>\n",
              "      <td>no</td>\n",
              "      <td>no</td>\n",
              "      <td>unknown</td>\n",
              "      <td>5</td>\n",
              "      <td>may</td>\n",
              "      <td>673</td>\n",
              "      <td>2</td>\n",
              "      <td>-1</td>\n",
              "      <td>0</td>\n",
              "      <td>unknown</td>\n",
              "      <td>yes</td>\n",
              "    </tr>\n",
              "  </tbody>\n",
              "</table>\n",
              "</div>"
            ],
            "text/plain": [
              "   age         job  marital  education  ... pdays  previous poutcome deposit\n",
              "0   59      admin.  married  secondary  ...    -1         0  unknown     yes\n",
              "1   56      admin.  married  secondary  ...    -1         0  unknown     yes\n",
              "2   41  technician  married  secondary  ...    -1         0  unknown     yes\n",
              "3   55    services  married  secondary  ...    -1         0  unknown     yes\n",
              "4   54      admin.  married   tertiary  ...    -1         0  unknown     yes\n",
              "\n",
              "[5 rows x 17 columns]"
            ]
          },
          "metadata": {
            "tags": []
          },
          "execution_count": 12
        }
      ]
    },
    {
      "cell_type": "code",
      "metadata": {
        "id": "FPFhevc4xjLm",
        "outputId": "6a916b80-6196-4f5a-b98c-178c5a6501aa",
        "colab": {
          "base_uri": "https://localhost:8080/"
        }
      },
      "source": [
        "# Prints the Dataset Information\n",
        "df_churn.info()"
      ],
      "execution_count": 13,
      "outputs": [
        {
          "output_type": "stream",
          "text": [
            "<class 'pandas.core.frame.DataFrame'>\n",
            "RangeIndex: 11162 entries, 0 to 11161\n",
            "Data columns (total 17 columns):\n",
            " #   Column     Non-Null Count  Dtype \n",
            "---  ------     --------------  ----- \n",
            " 0   age        11162 non-null  int64 \n",
            " 1   job        11162 non-null  object\n",
            " 2   marital    11162 non-null  object\n",
            " 3   education  11162 non-null  object\n",
            " 4   default    11162 non-null  object\n",
            " 5   balance    11162 non-null  int64 \n",
            " 6   housing    11162 non-null  object\n",
            " 7   loan       11162 non-null  object\n",
            " 8   contact    11162 non-null  object\n",
            " 9   day        11162 non-null  int64 \n",
            " 10  month      11162 non-null  object\n",
            " 11  duration   11162 non-null  int64 \n",
            " 12  campaign   11162 non-null  int64 \n",
            " 13  pdays      11162 non-null  int64 \n",
            " 14  previous   11162 non-null  int64 \n",
            " 15  poutcome   11162 non-null  object\n",
            " 16  deposit    11162 non-null  object\n",
            "dtypes: int64(7), object(10)\n",
            "memory usage: 1.4+ MB\n"
          ],
          "name": "stdout"
        }
      ]
    },
    {
      "cell_type": "code",
      "metadata": {
        "id": "WqXSe-pAxrD-",
        "outputId": "87aca72d-d88c-4b40-b6d6-ca6436602436",
        "colab": {
          "base_uri": "https://localhost:8080/",
          "height": 266
        }
      },
      "source": [
        "# Prints Descriptive Statistics\n",
        "df_churn.describe().transpose()"
      ],
      "execution_count": 14,
      "outputs": [
        {
          "output_type": "execute_result",
          "data": {
            "text/html": [
              "<div>\n",
              "<style scoped>\n",
              "    .dataframe tbody tr th:only-of-type {\n",
              "        vertical-align: middle;\n",
              "    }\n",
              "\n",
              "    .dataframe tbody tr th {\n",
              "        vertical-align: top;\n",
              "    }\n",
              "\n",
              "    .dataframe thead th {\n",
              "        text-align: right;\n",
              "    }\n",
              "</style>\n",
              "<table border=\"1\" class=\"dataframe\">\n",
              "  <thead>\n",
              "    <tr style=\"text-align: right;\">\n",
              "      <th></th>\n",
              "      <th>count</th>\n",
              "      <th>mean</th>\n",
              "      <th>std</th>\n",
              "      <th>min</th>\n",
              "      <th>25%</th>\n",
              "      <th>50%</th>\n",
              "      <th>75%</th>\n",
              "      <th>max</th>\n",
              "    </tr>\n",
              "  </thead>\n",
              "  <tbody>\n",
              "    <tr>\n",
              "      <th>age</th>\n",
              "      <td>11162.0</td>\n",
              "      <td>41.231948</td>\n",
              "      <td>11.913369</td>\n",
              "      <td>18.0</td>\n",
              "      <td>32.0</td>\n",
              "      <td>39.0</td>\n",
              "      <td>49.00</td>\n",
              "      <td>95.0</td>\n",
              "    </tr>\n",
              "    <tr>\n",
              "      <th>balance</th>\n",
              "      <td>11162.0</td>\n",
              "      <td>1528.538524</td>\n",
              "      <td>3225.413326</td>\n",
              "      <td>-6847.0</td>\n",
              "      <td>122.0</td>\n",
              "      <td>550.0</td>\n",
              "      <td>1708.00</td>\n",
              "      <td>81204.0</td>\n",
              "    </tr>\n",
              "    <tr>\n",
              "      <th>day</th>\n",
              "      <td>11162.0</td>\n",
              "      <td>15.658036</td>\n",
              "      <td>8.420740</td>\n",
              "      <td>1.0</td>\n",
              "      <td>8.0</td>\n",
              "      <td>15.0</td>\n",
              "      <td>22.00</td>\n",
              "      <td>31.0</td>\n",
              "    </tr>\n",
              "    <tr>\n",
              "      <th>duration</th>\n",
              "      <td>11162.0</td>\n",
              "      <td>371.993818</td>\n",
              "      <td>347.128386</td>\n",
              "      <td>2.0</td>\n",
              "      <td>138.0</td>\n",
              "      <td>255.0</td>\n",
              "      <td>496.00</td>\n",
              "      <td>3881.0</td>\n",
              "    </tr>\n",
              "    <tr>\n",
              "      <th>campaign</th>\n",
              "      <td>11162.0</td>\n",
              "      <td>2.508421</td>\n",
              "      <td>2.722077</td>\n",
              "      <td>1.0</td>\n",
              "      <td>1.0</td>\n",
              "      <td>2.0</td>\n",
              "      <td>3.00</td>\n",
              "      <td>63.0</td>\n",
              "    </tr>\n",
              "    <tr>\n",
              "      <th>pdays</th>\n",
              "      <td>11162.0</td>\n",
              "      <td>51.330407</td>\n",
              "      <td>108.758282</td>\n",
              "      <td>-1.0</td>\n",
              "      <td>-1.0</td>\n",
              "      <td>-1.0</td>\n",
              "      <td>20.75</td>\n",
              "      <td>854.0</td>\n",
              "    </tr>\n",
              "    <tr>\n",
              "      <th>previous</th>\n",
              "      <td>11162.0</td>\n",
              "      <td>0.832557</td>\n",
              "      <td>2.292007</td>\n",
              "      <td>0.0</td>\n",
              "      <td>0.0</td>\n",
              "      <td>0.0</td>\n",
              "      <td>1.00</td>\n",
              "      <td>58.0</td>\n",
              "    </tr>\n",
              "  </tbody>\n",
              "</table>\n",
              "</div>"
            ],
            "text/plain": [
              "            count         mean          std  ...    50%      75%      max\n",
              "age       11162.0    41.231948    11.913369  ...   39.0    49.00     95.0\n",
              "balance   11162.0  1528.538524  3225.413326  ...  550.0  1708.00  81204.0\n",
              "day       11162.0    15.658036     8.420740  ...   15.0    22.00     31.0\n",
              "duration  11162.0   371.993818   347.128386  ...  255.0   496.00   3881.0\n",
              "campaign  11162.0     2.508421     2.722077  ...    2.0     3.00     63.0\n",
              "pdays     11162.0    51.330407   108.758282  ...   -1.0    20.75    854.0\n",
              "previous  11162.0     0.832557     2.292007  ...    0.0     1.00     58.0\n",
              "\n",
              "[7 rows x 8 columns]"
            ]
          },
          "metadata": {
            "tags": []
          },
          "execution_count": 14
        }
      ]
    },
    {
      "cell_type": "markdown",
      "metadata": {
        "id": "1QmHdBb9xyx8"
      },
      "source": [
        "Data Preprocessing\n",
        "\n",
        "Handling Missing Values\n"
      ]
    },
    {
      "cell_type": "code",
      "metadata": {
        "id": "yq8rK_onx1cv",
        "outputId": "2cf9c62d-b6fc-44cd-b6d5-1e409e867d3f",
        "colab": {
          "base_uri": "https://localhost:8080/"
        }
      },
      "source": [
        "# Check for Missing Values\n",
        "df_churn.isnull().sum()"
      ],
      "execution_count": 15,
      "outputs": [
        {
          "output_type": "execute_result",
          "data": {
            "text/plain": [
              "age          0\n",
              "job          0\n",
              "marital      0\n",
              "education    0\n",
              "default      0\n",
              "balance      0\n",
              "housing      0\n",
              "loan         0\n",
              "contact      0\n",
              "day          0\n",
              "month        0\n",
              "duration     0\n",
              "campaign     0\n",
              "pdays        0\n",
              "previous     0\n",
              "poutcome     0\n",
              "deposit      0\n",
              "dtype: int64"
            ]
          },
          "metadata": {
            "tags": []
          },
          "execution_count": 15
        }
      ]
    }
  ]
}