{
  "nbformat": 4,
  "nbformat_minor": 0,
  "metadata": {
    "colab": {
      "name": "multiple-regression.ipynb",
      "provenance": [],
      "collapsed_sections": [],
      "authorship_tag": "ABX9TyMKwAIkR2XLWQTcAcv/uHik",
      "include_colab_link": true
    },
    "kernelspec": {
      "name": "python3",
      "display_name": "Python 3"
    }
  },
  "cells": [
    {
      "cell_type": "markdown",
      "metadata": {
        "id": "view-in-github",
        "colab_type": "text"
      },
      "source": [
        "<a href=\"https://colab.research.google.com/github/usugunawan15/Multiple-Regression/blob/master/multiple_regression.ipynb\" target=\"_parent\"><img src=\"https://colab.research.google.com/assets/colab-badge.svg\" alt=\"Open In Colab\"/></a>"
      ]
    },
    {
      "cell_type": "markdown",
      "metadata": {
        "id": "nXT8y4OcKo7Q"
      },
      "source": [
        "# **ASSIGNMENT WEEK 5**"
      ]
    },
    {
      "cell_type": "markdown",
      "metadata": {
        "id": "FpR473YgJP3B"
      },
      "source": [
        "MULTIPLE LINEAR REGGRESSION\n",
        "\n",
        "Usu Gunawan - DS0223\n",
        "\n",
        "\n"
      ]
    },
    {
      "cell_type": "markdown",
      "metadata": {
        "id": "QxsbYEKfMP1a"
      },
      "source": [
        "# Import Libraries"
      ]
    },
    {
      "cell_type": "code",
      "metadata": {
        "id": "f6jem3tnIq2v",
        "outputId": "1cf15ff3-8dac-4f88-aa4b-0f9ea782953c",
        "colab": {
          "base_uri": "https://localhost:8080/",
          "height": 74
        }
      },
      "source": [
        "import pandas as pd\n",
        "import numpy as np\n",
        "import matplotlib as mpl\n",
        "import matplotlib.pyplot as plt\n",
        "%matplotlib inline\n",
        "import seaborn as sns\n",
        "import statsmodels.api as sm\n",
        "from sklearn import linear_model\n",
        "from sklearn.metrics import mean_squared_error\n",
        "\n",
        "import warnings\n",
        "warnings.filterwarnings('ignore')\n",
        "plt.rcParams['figure.figsize'] = (7, 7)\n",
        "plt.style.use('ggplot')"
      ],
      "execution_count": null,
      "outputs": [
        {
          "output_type": "stream",
          "text": [
            "/usr/local/lib/python3.6/dist-packages/statsmodels/tools/_testing.py:19: FutureWarning: pandas.util.testing is deprecated. Use the functions in the public API at pandas.testing instead.\n",
            "  import pandas.util.testing as tm\n"
          ],
          "name": "stderr"
        }
      ]
    },
    {
      "cell_type": "markdown",
      "metadata": {
        "id": "0R7CvSkONOZS"
      },
      "source": [
        "Setelah import Libraries lalu import dataset"
      ]
    },
    {
      "cell_type": "code",
      "metadata": {
        "id": "loDubQ5qLA5l"
      },
      "source": [
        "#import the dataset from github to the dataframe(df)\n",
        "#the dataset in form of csv, to make it comfortable to be read, we use ';' to as the seperator.\n",
        "#\n",
        "df_pie = pd.read_csv('https://raw.githubusercontent.com/usugunawan15/Multiple-Regression/master/data/pie-sales.csv', sep =\";\")"
      ],
      "execution_count": null,
      "outputs": []
    },
    {
      "cell_type": "code",
      "metadata": {
        "id": "ygoQYtr0UkMo",
        "outputId": "36f9274d-a8c8-47f8-fc21-fa05c4a26303",
        "colab": {
          "base_uri": "https://localhost:8080/",
          "height": 520
        }
      },
      "source": [
        "df_pie"
      ],
      "execution_count": null,
      "outputs": [
        {
          "output_type": "execute_result",
          "data": {
            "text/html": [
              "<div>\n",
              "<style scoped>\n",
              "    .dataframe tbody tr th:only-of-type {\n",
              "        vertical-align: middle;\n",
              "    }\n",
              "\n",
              "    .dataframe tbody tr th {\n",
              "        vertical-align: top;\n",
              "    }\n",
              "\n",
              "    .dataframe thead th {\n",
              "        text-align: right;\n",
              "    }\n",
              "</style>\n",
              "<table border=\"1\" class=\"dataframe\">\n",
              "  <thead>\n",
              "    <tr style=\"text-align: right;\">\n",
              "      <th></th>\n",
              "      <th>week</th>\n",
              "      <th>pie_sales</th>\n",
              "      <th>price</th>\n",
              "      <th>advertising</th>\n",
              "    </tr>\n",
              "  </thead>\n",
              "  <tbody>\n",
              "    <tr>\n",
              "      <th>0</th>\n",
              "      <td>1</td>\n",
              "      <td>350</td>\n",
              "      <td>5.5</td>\n",
              "      <td>3.3</td>\n",
              "    </tr>\n",
              "    <tr>\n",
              "      <th>1</th>\n",
              "      <td>2</td>\n",
              "      <td>460</td>\n",
              "      <td>7.5</td>\n",
              "      <td>3.3</td>\n",
              "    </tr>\n",
              "    <tr>\n",
              "      <th>2</th>\n",
              "      <td>3</td>\n",
              "      <td>350</td>\n",
              "      <td>8.0</td>\n",
              "      <td>3.0</td>\n",
              "    </tr>\n",
              "    <tr>\n",
              "      <th>3</th>\n",
              "      <td>4</td>\n",
              "      <td>430</td>\n",
              "      <td>8.0</td>\n",
              "      <td>4.5</td>\n",
              "    </tr>\n",
              "    <tr>\n",
              "      <th>4</th>\n",
              "      <td>5</td>\n",
              "      <td>350</td>\n",
              "      <td>6.8</td>\n",
              "      <td>3.0</td>\n",
              "    </tr>\n",
              "    <tr>\n",
              "      <th>5</th>\n",
              "      <td>6</td>\n",
              "      <td>380</td>\n",
              "      <td>7.5</td>\n",
              "      <td>4.0</td>\n",
              "    </tr>\n",
              "    <tr>\n",
              "      <th>6</th>\n",
              "      <td>7</td>\n",
              "      <td>430</td>\n",
              "      <td>4.5</td>\n",
              "      <td>3.0</td>\n",
              "    </tr>\n",
              "    <tr>\n",
              "      <th>7</th>\n",
              "      <td>8</td>\n",
              "      <td>470</td>\n",
              "      <td>6.4</td>\n",
              "      <td>3.7</td>\n",
              "    </tr>\n",
              "    <tr>\n",
              "      <th>8</th>\n",
              "      <td>9</td>\n",
              "      <td>450</td>\n",
              "      <td>7.0</td>\n",
              "      <td>3.5</td>\n",
              "    </tr>\n",
              "    <tr>\n",
              "      <th>9</th>\n",
              "      <td>10</td>\n",
              "      <td>490</td>\n",
              "      <td>5.0</td>\n",
              "      <td>4.0</td>\n",
              "    </tr>\n",
              "    <tr>\n",
              "      <th>10</th>\n",
              "      <td>11</td>\n",
              "      <td>340</td>\n",
              "      <td>7.2</td>\n",
              "      <td>3.5</td>\n",
              "    </tr>\n",
              "    <tr>\n",
              "      <th>11</th>\n",
              "      <td>12</td>\n",
              "      <td>300</td>\n",
              "      <td>7.9</td>\n",
              "      <td>3.2</td>\n",
              "    </tr>\n",
              "    <tr>\n",
              "      <th>12</th>\n",
              "      <td>13</td>\n",
              "      <td>440</td>\n",
              "      <td>5.9</td>\n",
              "      <td>4.0</td>\n",
              "    </tr>\n",
              "    <tr>\n",
              "      <th>13</th>\n",
              "      <td>14</td>\n",
              "      <td>450</td>\n",
              "      <td>5.0</td>\n",
              "      <td>3.5</td>\n",
              "    </tr>\n",
              "    <tr>\n",
              "      <th>14</th>\n",
              "      <td>15</td>\n",
              "      <td>300</td>\n",
              "      <td>7.0</td>\n",
              "      <td>2.7</td>\n",
              "    </tr>\n",
              "  </tbody>\n",
              "</table>\n",
              "</div>"
            ],
            "text/plain": [
              "    week  pie_sales  price  advertising\n",
              "0      1        350    5.5          3.3\n",
              "1      2        460    7.5          3.3\n",
              "2      3        350    8.0          3.0\n",
              "3      4        430    8.0          4.5\n",
              "4      5        350    6.8          3.0\n",
              "5      6        380    7.5          4.0\n",
              "6      7        430    4.5          3.0\n",
              "7      8        470    6.4          3.7\n",
              "8      9        450    7.0          3.5\n",
              "9     10        490    5.0          4.0\n",
              "10    11        340    7.2          3.5\n",
              "11    12        300    7.9          3.2\n",
              "12    13        440    5.9          4.0\n",
              "13    14        450    5.0          3.5\n",
              "14    15        300    7.0          2.7"
            ]
          },
          "metadata": {
            "tags": []
          },
          "execution_count": 11
        }
      ]
    },
    {
      "cell_type": "markdown",
      "metadata": {
        "id": "3b58ALIakALs"
      },
      "source": [
        "Dataset diatas terdiri dari 15 baris dan 4 kolom yang berisi week, pie_sales, price dan advertising)"
      ]
    },
    {
      "cell_type": "markdown",
      "metadata": {
        "id": "pGhuAeYTB9ND"
      },
      "source": [
        "# Exploratory Data Analysis (EDA)\n",
        "Exploratory Data Analysis dilakukan dulu untuk mengeksplor isi data yang digunakan (Visualisasi , Korelasi dll.)"
      ]
    },
    {
      "cell_type": "markdown",
      "metadata": {
        "id": "8FkpshOTSONc"
      },
      "source": [
        "**Korelasi Antara Data**\n",
        "\n",
        "\n",
        "*   pie_sales dan advertising memiliki korelasi positif, yaitu 0.56\n",
        "*   pie_sales dan week memiliki korelasi negatif, yaitu -0.068\n",
        "*   pie_sales dan price memiliki korelasi negatif, yaitu -0.44\n",
        "\n",
        "\n",
        "\n",
        "\n"
      ]
    },
    {
      "cell_type": "code",
      "metadata": {
        "id": "mpuHgz7ckAm0",
        "outputId": "a1357627-07e1-4f35-9947-f86b5c2bca60",
        "colab": {
          "base_uri": "https://localhost:8080/",
          "height": 433
        }
      },
      "source": [
        "corrMatrix = df_pie.corr()\n",
        "plt.figure(figsize=(10,7))\n",
        "sns.heatmap(corrMatrix, annot=True)\n",
        "plt.show()"
      ],
      "execution_count": null,
      "outputs": [
        {
          "output_type": "display_data",
          "data": {
            "image/png": "[encoded data removed]",
            "text/plain": [
              "<Figure size 720x504 with 2 Axes>"
            ]
          },
          "metadata": {
            "tags": []
          }
        }
      ]
    },
    {
      "cell_type": "markdown",
      "metadata": {
        "id": "xkY7zORGyaSi"
      },
      "source": [
        "**Plotting** **pie_sales** **dan** **advertising**"
      ]
    },
    {
      "cell_type": "code",
      "metadata": {
        "id": "OSP5qELNkFFH",
        "outputId": "1a65aa91-a741-477b-acd8-cf41705d9772",
        "colab": {
          "base_uri": "https://localhost:8080/",
          "height": 463
        }
      },
      "source": [
        "sns.scatterplot(x=\"pie_sales\", y=\"advertising\", color='blue', data= df_pie)"
      ],
      "execution_count": null,
      "outputs": [
        {
          "output_type": "execute_result",
          "data": {
            "text/plain": [
              "<matplotlib.axes._subplots.AxesSubplot at 0x7f4c74772c50>"
            ]
          },
          "metadata": {
            "tags": []
          },
          "execution_count": 45
        },
        {
          "output_type": "display_data",
          "data": {
            "image/png": "[encoded data removed]",
            "text/plain": [
              "<Figure size 504x504 with 1 Axes>"
            ]
          },
          "metadata": {
            "tags": []
          }
        }
      ]
    },
    {
      "cell_type": "markdown",
      "metadata": {
        "id": "hFFLjTWS2_uW"
      },
      "source": [
        "**Plotting pie_sales dan price**"
      ]
    },
    {
      "cell_type": "code",
      "metadata": {
        "id": "6mHBycoDomLc",
        "outputId": "a170d577-05f8-4351-fca9-d7063a93aa51",
        "colab": {
          "base_uri": "https://localhost:8080/",
          "height": 463
        }
      },
      "source": [
        "sns.scatterplot(x=\"pie_sales\", y=\"price\", color='red', data= df_pie)"
      ],
      "execution_count": null,
      "outputs": [
        {
          "output_type": "execute_result",
          "data": {
            "text/plain": [
              "<matplotlib.axes._subplots.AxesSubplot at 0x7f4c74696208>"
            ]
          },
          "metadata": {
            "tags": []
          },
          "execution_count": 47
        },
        {
          "output_type": "display_data",
          "data": {
            "image/png": "[encoded data removed]",
            "text/plain": [
              "<Figure size 504x504 with 1 Axes>"
            ]
          },
          "metadata": {
            "tags": []
          }
        }
      ]
    },
    {
      "cell_type": "markdown",
      "metadata": {
        "id": "D7V62Cuo3GLE"
      },
      "source": [
        "**Ploting pie_sales dan week**"
      ]
    },
    {
      "cell_type": "code",
      "metadata": {
        "id": "YrsHJhpwyQX8",
        "outputId": "4e1607cd-1e52-4f81-9142-6ebf35044835",
        "colab": {
          "base_uri": "https://localhost:8080/",
          "height": 463
        }
      },
      "source": [
        "sns.scatterplot(x=\"pie_sales\", y=\"week\", color='green', data= df_pie)"
      ],
      "execution_count": null,
      "outputs": [
        {
          "output_type": "execute_result",
          "data": {
            "text/plain": [
              "<matplotlib.axes._subplots.AxesSubplot at 0x7f4c74d775c0>"
            ]
          },
          "metadata": {
            "tags": []
          },
          "execution_count": 48
        },
        {
          "output_type": "display_data",
          "data": {
            "image/png": "[encoded data removed]",
            "text/plain": [
              "<Figure size 504x504 with 1 Axes>"
            ]
          },
          "metadata": {
            "tags": []
          }
        }
      ]
    },
    {
      "cell_type": "markdown",
      "metadata": {
        "id": "lBLG0rl08YiG"
      },
      "source": [
        "\n",
        "\n",
        "---\n",
        "\n"
      ]
    },
    {
      "cell_type": "code",
      "metadata": {
        "id": "wyqG-DSx4YE0",
        "outputId": "68533cb2-2bff-40c9-8f9b-420f81c05be2",
        "colab": {
          "base_uri": "https://localhost:8080/",
          "height": 388
        }
      },
      "source": [
        "a = sns.PairGrid(x_vars=[\"price\",\"advertising\"], y_vars=\"pie_sales\", data=df_pie, height=5)\n",
        "a.map(sns.regplot)"
      ],
      "execution_count": 87,
      "outputs": [
        {
          "output_type": "execute_result",
          "data": {
            "text/plain": [
              "<seaborn.axisgrid.PairGrid at 0x7f4c6bde55c0>"
            ]
          },
          "metadata": {
            "tags": []
          },
          "execution_count": 87
        },
        {
          "output_type": "display_data",
          "data": {
            "image/png": "[encoded data removed]",
            "text/plain": [
              "<Figure size 720x360 with 2 Axes>"
            ]
          },
          "metadata": {
            "tags": []
          }
        }
      ]
    },
    {
      "cell_type": "markdown",
      "metadata": {
        "id": "Q_al0fSD8F9J"
      },
      "source": [
        "**Penjelasan :**\n",
        "\n",
        "Pada sklearn kita bisa lihat titik titik diatas dimana independent variable dan hubungan variable antara pie sales dengan advertising dan price. kemudian pada Seaborn dibuat garis yang menunjukkan regeresi linear dari variable yang disebutkan diatas\n",
        "Dan bisa disimpulkan bahwa :\n",
        "*   Hubungan antara pie_sales dan advertising berkolerasi positif\n",
        "*   Hubungan antara pie_sales dan price berkolerasi negatif\n",
        "\n",
        "penjualan pie_sales, jika semakin tinggi harga maka penjualan semakin menurun sebaliknya jika iklan pie_sales tinggi maka penjualan pie pun tinggi.\n",
        "\n"
      ]
    },
    {
      "cell_type": "markdown",
      "metadata": {
        "id": "1qI8jlZz29RI"
      },
      "source": [
        "# Cari intercept dan coefficient"
      ]
    },
    {
      "cell_type": "code",
      "metadata": {
        "id": "uczyndk8LYTY"
      },
      "source": [
        "X = df_pie[['price','advertising']]\n",
        "Y = df_pie['pie_sales']"
      ],
      "execution_count": 73,
      "outputs": []
    },
    {
      "cell_type": "code",
      "metadata": {
        "id": "wmr06kBFLqWo",
        "outputId": "c1768d29-1a89-4027-c1fe-0f4beadca6f1",
        "colab": {
          "base_uri": "https://localhost:8080/",
          "height": 90
        }
      },
      "source": [
        "regr = linear_model.LinearRegression()\n",
        "regr.fit(X, Y)\n",
        "\n",
        "print('Intercept: \\n', regr.intercept_)\n",
        "print('Coefficients: \\n', regr.coef_)"
      ],
      "execution_count": 74,
      "outputs": [
        {
          "output_type": "stream",
          "text": [
            "Intercept: \n",
            " 306.5261932837436\n",
            "Coefficients: \n",
            " [-24.97508952  74.13095749]\n"
          ],
          "name": "stdout"
        }
      ]
    },
    {
      "cell_type": "markdown",
      "metadata": {
        "id": "Q5uh5DhbRysW"
      },
      "source": [
        "Dari data diatas didapatkan :\n",
        "*   Intercept : 306.5261932837436\n",
        "*   Coefficient price : -24.97508952\n",
        "*   Coefficient advertising : 74.13095749\n",
        "\n",
        "sehingga :\n",
        "pie_sales = intercept + Coefficient(price) + Coefficient(advertising)\n",
        "pie_sales = 306,5261932837436 - 24,97508952 + 74,13095749\n",
        "\n",
        "\n",
        "\n"
      ]
    },
    {
      "cell_type": "markdown",
      "metadata": {
        "id": "uNWAPdAzTX6R"
      },
      "source": [
        "# **Membuat Prediksi**\n",
        "Dari asumsi dan menghitung intercept dan coefficient kita bisa melihat pola hubungan dua variable dari rumus diatas, kemudian dicobakan untuk memprediksi apabila Price = 5.50 dan Advertising = 3.5 akan meghasilkan pie_sales berapa?"
      ]
    },
    {
      "cell_type": "code",
      "metadata": {
        "id": "eNITgkDAbx-h",
        "outputId": "dc5b44d9-594c-49d4-9c6c-29c5418defe4",
        "colab": {
          "base_uri": "https://localhost:8080/",
          "height": 54
        }
      },
      "source": [
        "predictions = regr.predict([[5.50, 3.5]])\n",
        "print ('Predicted  pie sale: \\n', predictions)"
      ],
      "execution_count": 75,
      "outputs": [
        {
          "output_type": "stream",
          "text": [
            "Predicted  pie sale: \n",
            " [428.62155215]\n"
          ],
          "name": "stdout"
        }
      ]
    },
    {
      "cell_type": "markdown",
      "metadata": {
        "id": "QH7sIP5Jb8DD"
      },
      "source": [
        "# **Regression dengan menggunakan Statsmodel**"
      ]
    },
    {
      "cell_type": "code",
      "metadata": {
        "id": "CO2vwa0RcP8N",
        "outputId": "6ddb9b98-69b1-4c21-b703-460f9b38f1aa",
        "colab": {
          "base_uri": "https://localhost:8080/",
          "height": 495
        }
      },
      "source": [
        "X = df_pie[['price', 'advertising']]\n",
        "\n",
        "# Menambahkan constant\n",
        "X = sm.add_constant(X)\n",
        "\n",
        "model = sm.OLS(df_pie['pie_sales'], X).fit()\n",
        "print(model.summary())"
      ],
      "execution_count": 78,
      "outputs": [
        {
          "output_type": "stream",
          "text": [
            "                            OLS Regression Results                            \n",
            "==============================================================================\n",
            "Dep. Variable:              pie_sales   R-squared:                       0.521\n",
            "Model:                            OLS   Adj. R-squared:                  0.442\n",
            "Method:                 Least Squares   F-statistic:                     6.539\n",
            "Date:                Fri, 23 Oct 2020   Prob (F-statistic):             0.0120\n",
            "Time:                        17:11:59   Log-Likelihood:                -77.510\n",
            "No. Observations:                  15   AIC:                             161.0\n",
            "Df Residuals:                      12   BIC:                             163.1\n",
            "Df Model:                           2                                         \n",
            "Covariance Type:            nonrobust                                         \n",
            "===============================================================================\n",
            "                  coef    std err          t      P>|t|      [0.025      0.975]\n",
            "-------------------------------------------------------------------------------\n",
            "const         306.5262    114.254      2.683      0.020      57.588     555.464\n",
            "price         -24.9751     10.832     -2.306      0.040     -48.576      -1.374\n",
            "advertising    74.1310     25.967      2.855      0.014      17.553     130.709\n",
            "==============================================================================\n",
            "Omnibus:                        1.505   Durbin-Watson:                   1.683\n",
            "Prob(Omnibus):                  0.471   Jarque-Bera (JB):                0.937\n",
            "Skew:                           0.595   Prob(JB):                        0.626\n",
            "Kurtosis:                       2.709   Cond. No.                         72.2\n",
            "==============================================================================\n",
            "\n",
            "Warnings:\n",
            "[1] Standard Errors assume that the covariance matrix of the errors is correctly specified.\n"
          ],
          "name": "stdout"
        }
      ]
    },
    {
      "cell_type": "markdown",
      "metadata": {
        "id": "lq7FFavAemEn"
      },
      "source": [
        "# **Coefficient Determination ($R^2$)**\n",
        "Coefficeint determination adalah adalah proporsi varians dalam variabel dependen yang dapat diprediksi dari variabel independen atau besarnya variance dari satu variable yang merupakan andil dari variable lain."
      ]
    },
    {
      "cell_type": "code",
      "metadata": {
        "id": "tloTuxIyf5jX",
        "outputId": "1f2b21bd-f810-4713-fa55-7f665aa48ef6",
        "colab": {
          "base_uri": "https://localhost:8080/",
          "height": 35
        }
      },
      "source": [
        "print('R2: ',model.rsquared)"
      ],
      "execution_count": 79,
      "outputs": [
        {
          "output_type": "stream",
          "text": [
            "R2:  0.5214779360292285\n"
          ],
          "name": "stdout"
        }
      ]
    },
    {
      "cell_type": "markdown",
      "metadata": {
        "id": "v3PVAoz-gM7E"
      },
      "source": [
        "Dari data diatas diperoleh R2 sebesar 0,5214 yang berarti 52,14% dari variabel terikat kita dapat dijelaskan menggunakan variabel bebas yang ada."
      ]
    },
    {
      "cell_type": "markdown",
      "metadata": {
        "id": "B5vw30RtgXRc"
      },
      "source": [
        "# **F-Test**\n",
        "F-test adalah uji statistik apa pun di mana statistik uji memiliki distribusi- F di bawah hipotesis nol . Ini paling sering digunakan saat membandingkan model statistik yang telah dipasang ke kumpulan data , untuk mengidentifikasi model yang paling sesuai dengan populasi dari mana data dijadikan sampel. "
      ]
    },
    {
      "cell_type": "code",
      "metadata": {
        "id": "70aZ-56khVsv",
        "outputId": "41dc679f-11d2-4cab-9fd5-4bbd8d34a292",
        "colab": {
          "base_uri": "https://localhost:8080/",
          "height": 54
        }
      },
      "source": [
        "print('F-statistic:', model.fvalue)\n",
        "print('probabilitas atau peluang untuk mendapatkan nilai senilai F-statistic :', model.f_pvalue)"
      ],
      "execution_count": 81,
      "outputs": [
        {
          "output_type": "stream",
          "text": [
            "F-statistic: 6.538606789020464\n",
            "Peluang untuk mendapatkan nilai senilai F-statistic : 0.01200637223318641\n"
          ],
          "name": "stdout"
        }
      ]
    },
    {
      "cell_type": "markdown",
      "metadata": {
        "id": "hRkVTPklhs6y"
      },
      "source": [
        "# **T-Test**\n",
        "T-test dikenal dengan uji parsial, yaitu untuk menguji bagaimana pengaruh masing-masing variabel bebasnya secara sendiri-sendiri terhadap variabel terikatnya. Uji ini dapat dilakukan dengan mambandingkan t hitung dengan t tabel atau dengan melihat kolom signifikansi pada masing-masing t hitung, proses T-test identik dengan F-test"
      ]
    },
    {
      "cell_type": "code",
      "metadata": {
        "id": "OPT_os1oiG6l",
        "outputId": "cf5f3b42-e5d6-4ced-f976-5e6a58d3572a",
        "colab": {
          "base_uri": "https://localhost:8080/",
          "height": 90
        }
      },
      "source": [
        "print(model.pvalues)"
      ],
      "execution_count": 82,
      "outputs": [
        {
          "output_type": "stream",
          "text": [
            "const          0.019932\n",
            "price          0.039788\n",
            "advertising    0.014494\n",
            "dtype: float64\n"
          ],
          "name": "stdout"
        }
      ]
    }
  ]
}